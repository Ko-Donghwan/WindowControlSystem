{
 "cells": [
  {
   "cell_type": "code",
   "execution_count": null,
   "metadata": {},
   "outputs": [
    {
     "name": "stdout",
     "output_type": "stream",
     "text": [
      " * Serving Flask app '__main__'\n",
      " * Debug mode: off\n"
     ]
    },
    {
     "name": "stderr",
     "output_type": "stream",
     "text": [
      "WARNING: This is a development server. Do not use it in a production deployment. Use a production WSGI server instead.\n",
      " * Running on all addresses (0.0.0.0)\n",
      " * Running on http://127.0.0.1:5000\n",
      " * Running on http://203.234.62.183:5000\n",
      "Press CTRL+C to quit\n",
      "203.234.62.183 - - [12/Jun/2024 14:53:17] \"GET / HTTP/1.1\" 200 -\n",
      "203.234.62.183 - - [12/Jun/2024 14:53:17] \"GET /environment HTTP/1.1\" 200 -\n",
      "203.234.62.183 - - [12/Jun/2024 14:53:17] \"GET /favicon.ico HTTP/1.1\" 404 -\n",
      "203.234.62.183 - - [12/Jun/2024 14:53:22] \"GET /environment HTTP/1.1\" 200 -\n",
      "203.234.62.183 - - [12/Jun/2024 14:53:27] \"GET /environment HTTP/1.1\" 200 -\n",
      "203.234.62.64 - - [12/Jun/2024 14:53:28] \"POST /api HTTP/1.1\" 200 -\n",
      "203.234.62.64 - - [12/Jun/2024 14:53:29] \"POST /environment HTTP/1.1\" 405 -\n"
     ]
    },
    {
     "name": "stdout",
     "output_type": "stream",
     "text": [
      "{'temp': 22.2, 'humid': 53.0, 'pm': 0.0, 'rain': 48.0, 'gas': 82.0, 'light': 185.0}\n"
     ]
    },
    {
     "name": "stderr",
     "output_type": "stream",
     "text": [
      "203.234.62.183 - - [12/Jun/2024 14:53:32] \"GET /environment HTTP/1.1\" 200 -\n",
      "203.234.62.64 - - [12/Jun/2024 14:53:34] \"GET /window_status HTTP/1.1\" 200 -\n",
      "203.234.62.64 - - [12/Jun/2024 14:53:34] \"POST /api HTTP/1.1\" 200 -\n",
      "203.234.62.64 - - [12/Jun/2024 14:53:34] \"POST /environment HTTP/1.1\" 405 -\n"
     ]
    },
    {
     "name": "stdout",
     "output_type": "stream",
     "text": [
      "{'temp': 22.2, 'humid': 53.0, 'pm': 0.0, 'rain': 46.0, 'gas': 80.0, 'light': 184.0}\n"
     ]
    },
    {
     "name": "stderr",
     "output_type": "stream",
     "text": [
      "203.234.62.183 - - [12/Jun/2024 14:53:37] \"GET /environment HTTP/1.1\" 200 -\n",
      "203.234.62.64 - - [12/Jun/2024 14:53:39] \"GET /window_status HTTP/1.1\" 200 -\n",
      "203.234.62.64 - - [12/Jun/2024 14:53:39] \"POST /api HTTP/1.1\" 200 -\n",
      "203.234.62.64 - - [12/Jun/2024 14:53:39] \"POST /environment HTTP/1.1\" 405 -\n"
     ]
    },
    {
     "name": "stdout",
     "output_type": "stream",
     "text": [
      "{'temp': 22.2, 'humid': 53.0, 'pm': 0.0, 'rain': 46.0, 'gas': 79.0, 'light': 183.0}\n"
     ]
    },
    {
     "name": "stderr",
     "output_type": "stream",
     "text": [
      "203.234.62.183 - - [12/Jun/2024 14:53:42] \"GET /environment HTTP/1.1\" 200 -\n",
      "203.234.62.64 - - [12/Jun/2024 14:53:44] \"GET /window_status HTTP/1.1\" 200 -\n",
      "203.234.62.64 - - [12/Jun/2024 14:53:44] \"POST /api HTTP/1.1\" 200 -\n",
      "203.234.62.64 - - [12/Jun/2024 14:53:44] \"POST /environment HTTP/1.1\" 405 -\n"
     ]
    },
    {
     "name": "stdout",
     "output_type": "stream",
     "text": [
      "{'temp': 22.2, 'humid': 53.0, 'pm': 0.0, 'rain': 46.0, 'gas': 79.0, 'light': 181.0}\n"
     ]
    },
    {
     "name": "stderr",
     "output_type": "stream",
     "text": [
      "203.234.62.183 - - [12/Jun/2024 14:53:47] \"GET /environment HTTP/1.1\" 200 -\n",
      "203.234.62.64 - - [12/Jun/2024 14:53:49] \"GET /window_status HTTP/1.1\" 200 -\n",
      "203.234.62.183 - - [12/Jun/2024 14:53:52] \"GET /environment HTTP/1.1\" 200 -\n",
      "203.234.62.183 - - [12/Jun/2024 14:53:57] \"GET /environment HTTP/1.1\" 200 -\n",
      "203.234.62.183 - - [12/Jun/2024 14:54:02] \"GET /environment HTTP/1.1\" 200 -\n",
      "203.234.62.183 - - [12/Jun/2024 14:54:07] \"GET /environment HTTP/1.1\" 200 -\n",
      "203.234.62.183 - - [12/Jun/2024 14:54:12] \"GET /environment HTTP/1.1\" 200 -\n",
      "203.234.62.183 - - [12/Jun/2024 14:54:17] \"GET /environment HTTP/1.1\" 200 -\n",
      "203.234.62.183 - - [12/Jun/2024 14:54:22] \"GET /environment HTTP/1.1\" 200 -\n",
      "203.234.62.183 - - [12/Jun/2024 14:54:27] \"GET /environment HTTP/1.1\" 200 -\n",
      "203.234.62.183 - - [12/Jun/2024 14:54:32] \"GET /environment HTTP/1.1\" 200 -\n",
      "203.234.62.64 - - [12/Jun/2024 14:54:35] \"POST /api HTTP/1.1\" 200 -\n",
      "203.234.62.64 - - [12/Jun/2024 14:54:35] \"POST /environment HTTP/1.1\" 405 -\n"
     ]
    },
    {
     "name": "stdout",
     "output_type": "stream",
     "text": [
      "{'temp': 22.2, 'humid': 53.0, 'pm': 0.0, 'rain': 10.0, 'gas': 55.0, 'light': 162.0}\n"
     ]
    },
    {
     "name": "stderr",
     "output_type": "stream",
     "text": [
      "203.234.62.183 - - [12/Jun/2024 14:54:37] \"GET /environment HTTP/1.1\" 200 -\n",
      "203.234.62.64 - - [12/Jun/2024 14:54:40] \"GET /window_status HTTP/1.1\" 200 -\n",
      "203.234.62.64 - - [12/Jun/2024 14:54:40] \"POST /api HTTP/1.1\" 200 -\n",
      "203.234.62.64 - - [12/Jun/2024 14:54:40] \"POST /environment HTTP/1.1\" 405 -\n"
     ]
    },
    {
     "name": "stdout",
     "output_type": "stream",
     "text": [
      "{'temp': 22.2, 'humid': 53.0, 'pm': 0.0, 'rain': 11.0, 'gas': 55.0, 'light': 162.0}\n"
     ]
    },
    {
     "name": "stderr",
     "output_type": "stream",
     "text": [
      "203.234.62.183 - - [12/Jun/2024 14:54:42] \"GET /environment HTTP/1.1\" 200 -\n",
      "203.234.62.64 - - [12/Jun/2024 14:54:45] \"GET /window_status HTTP/1.1\" 200 -\n",
      "203.234.62.64 - - [12/Jun/2024 14:54:45] \"POST /api HTTP/1.1\" 200 -\n",
      "203.234.62.64 - - [12/Jun/2024 14:54:45] \"POST /environment HTTP/1.1\" 405 -\n"
     ]
    },
    {
     "name": "stdout",
     "output_type": "stream",
     "text": [
      "{'temp': 22.2, 'humid': 53.0, 'pm': 0.0, 'rain': 10.0, 'gas': 54.0, 'light': 161.0}\n"
     ]
    },
    {
     "name": "stderr",
     "output_type": "stream",
     "text": [
      "203.234.62.183 - - [12/Jun/2024 14:54:47] \"GET /environment HTTP/1.1\" 200 -\n",
      "203.234.62.64 - - [12/Jun/2024 14:54:50] \"GET /window_status HTTP/1.1\" 200 -\n",
      "203.234.62.64 - - [12/Jun/2024 14:54:50] \"POST /api HTTP/1.1\" 200 -\n",
      "203.234.62.64 - - [12/Jun/2024 14:54:50] \"POST /environment HTTP/1.1\" 405 -\n"
     ]
    },
    {
     "name": "stdout",
     "output_type": "stream",
     "text": [
      "{'temp': 22.3, 'humid': 53.0, 'pm': 0.0, 'rain': 11.0, 'gas': 49.0, 'light': 153.0}\n"
     ]
    },
    {
     "name": "stderr",
     "output_type": "stream",
     "text": [
      "203.234.62.183 - - [12/Jun/2024 14:54:52] \"GET /environment HTTP/1.1\" 200 -\n",
      "203.234.62.64 - - [12/Jun/2024 14:54:55] \"GET /window_status HTTP/1.1\" 200 -\n",
      "203.234.62.64 - - [12/Jun/2024 14:54:56] \"POST /api HTTP/1.1\" 200 -\n",
      "203.234.62.64 - - [12/Jun/2024 14:54:56] \"POST /environment HTTP/1.1\" 405 -\n"
     ]
    },
    {
     "name": "stdout",
     "output_type": "stream",
     "text": [
      "{'temp': 22.5, 'humid': 53.0, 'pm': 25.34, 'rain': 23.0, 'gas': 64.0, 'light': 183.0}\n"
     ]
    },
    {
     "name": "stderr",
     "output_type": "stream",
     "text": [
      "203.234.62.183 - - [12/Jun/2024 14:54:57] \"GET /environment HTTP/1.1\" 200 -\n",
      "203.234.62.64 - - [12/Jun/2024 14:55:01] \"GET /window_status HTTP/1.1\" 200 -\n",
      "203.234.62.64 - - [12/Jun/2024 14:55:01] \"POST /api HTTP/1.1\" 200 -\n",
      "203.234.62.64 - - [12/Jun/2024 14:55:01] \"POST /environment HTTP/1.1\" 405 -\n"
     ]
    },
    {
     "name": "stdout",
     "output_type": "stream",
     "text": [
      "{'temp': 22.6, 'humid': 53.0, 'pm': 20.36, 'rain': 43.0, 'gas': 80.0, 'light': 185.0}\n"
     ]
    },
    {
     "name": "stderr",
     "output_type": "stream",
     "text": [
      "203.234.62.183 - - [12/Jun/2024 14:55:03] \"GET / HTTP/1.1\" 200 -\n",
      "203.234.62.183 - - [12/Jun/2024 14:55:03] \"GET /environment HTTP/1.1\" 200 -\n",
      "203.234.62.183 - - [12/Jun/2024 14:55:03] \"GET /favicon.ico HTTP/1.1\" 404 -\n",
      "203.234.62.64 - - [12/Jun/2024 14:55:06] \"GET /window_status HTTP/1.1\" 200 -\n",
      "203.234.62.183 - - [12/Jun/2024 14:55:06] \"POST /window HTTP/1.1\" 200 -\n",
      "203.234.62.64 - - [12/Jun/2024 14:55:06] \"POST /api HTTP/1.1\" 200 -\n",
      "203.234.62.64 - - [12/Jun/2024 14:55:06] \"POST /environment HTTP/1.1\" 405 -\n"
     ]
    },
    {
     "name": "stdout",
     "output_type": "stream",
     "text": [
      "{'temp': 22.6, 'humid': 53.0, 'pm': 34.47, 'rain': 45.0, 'gas': 81.0, 'light': 185.0}\n"
     ]
    },
    {
     "name": "stderr",
     "output_type": "stream",
     "text": [
      "203.234.62.183 - - [12/Jun/2024 14:55:08] \"GET /environment HTTP/1.1\" 200 -\n",
      "203.234.62.64 - - [12/Jun/2024 14:55:11] \"GET /window_status HTTP/1.1\" 200 -\n",
      "203.234.62.64 - - [12/Jun/2024 14:55:11] \"POST /api HTTP/1.1\" 200 -\n",
      "203.234.62.64 - - [12/Jun/2024 14:55:11] \"POST /environment HTTP/1.1\" 405 -\n"
     ]
    },
    {
     "name": "stdout",
     "output_type": "stream",
     "text": [
      "{'temp': 22.6, 'humid': 53.0, 'pm': 17.04, 'rain': 43.0, 'gas': 79.0, 'light': 185.0}\n"
     ]
    },
    {
     "name": "stderr",
     "output_type": "stream",
     "text": [
      "203.234.62.183 - - [12/Jun/2024 14:55:13] \"GET /environment HTTP/1.1\" 200 -\n",
      "203.234.62.64 - - [12/Jun/2024 14:55:16] \"GET /window_status HTTP/1.1\" 200 -\n",
      "203.234.62.64 - - [12/Jun/2024 14:55:16] \"POST /api HTTP/1.1\" 200 -\n",
      "203.234.62.64 - - [12/Jun/2024 14:55:16] \"POST /environment HTTP/1.1\" 405 -\n"
     ]
    },
    {
     "name": "stdout",
     "output_type": "stream",
     "text": [
      "{'temp': 22.6, 'humid': 53.0, 'pm': 24.51, 'rain': 46.0, 'gas': 80.0, 'light': 187.0}\n"
     ]
    },
    {
     "name": "stderr",
     "output_type": "stream",
     "text": [
      "203.234.62.183 - - [12/Jun/2024 14:55:18] \"GET /environment HTTP/1.1\" 200 -\n",
      "203.234.62.183 - - [12/Jun/2024 14:55:19] \"POST /window HTTP/1.1\" 200 -\n",
      "203.234.62.64 - - [12/Jun/2024 14:55:21] \"GET /window_status HTTP/1.1\" 200 -\n",
      "203.234.62.64 - - [12/Jun/2024 14:55:21] \"POST /api HTTP/1.1\" 200 -\n",
      "203.234.62.64 - - [12/Jun/2024 14:55:21] \"POST /environment HTTP/1.1\" 405 -\n"
     ]
    },
    {
     "name": "stdout",
     "output_type": "stream",
     "text": [
      "{'temp': 22.6, 'humid': 53.0, 'pm': 18.7, 'rain': 43.0, 'gas': 78.0, 'light': 187.0}\n"
     ]
    },
    {
     "name": "stderr",
     "output_type": "stream",
     "text": [
      "203.234.62.183 - - [12/Jun/2024 14:55:23] \"GET /environment HTTP/1.1\" 200 -\n",
      "203.234.62.64 - - [12/Jun/2024 14:55:27] \"GET /window_status HTTP/1.1\" 200 -\n",
      "203.234.62.64 - - [12/Jun/2024 14:55:27] \"POST /api HTTP/1.1\" 200 -\n",
      "203.234.62.64 - - [12/Jun/2024 14:55:27] \"POST /environment HTTP/1.1\" 405 -\n"
     ]
    },
    {
     "name": "stdout",
     "output_type": "stream",
     "text": [
      "{'temp': 22.6, 'humid': 53.0, 'pm': 15.38, 'rain': 46.0, 'gas': 80.0, 'light': 187.0}\n"
     ]
    },
    {
     "name": "stderr",
     "output_type": "stream",
     "text": [
      "203.234.62.183 - - [12/Jun/2024 14:55:28] \"GET /environment HTTP/1.1\" 200 -\n",
      "203.234.62.64 - - [12/Jun/2024 14:55:32] \"GET /window_status HTTP/1.1\" 200 -\n",
      "203.234.62.64 - - [12/Jun/2024 14:55:32] \"POST /api HTTP/1.1\" 200 -\n",
      "203.234.62.64 - - [12/Jun/2024 14:55:32] \"POST /environment HTTP/1.1\" 405 -\n"
     ]
    },
    {
     "name": "stdout",
     "output_type": "stream",
     "text": [
      "{'temp': 22.6, 'humid': 53.0, 'pm': 41.94, 'rain': 44.0, 'gas': 79.0, 'light': 188.0}\n"
     ]
    },
    {
     "name": "stderr",
     "output_type": "stream",
     "text": [
      "203.234.62.183 - - [12/Jun/2024 14:55:33] \"GET /environment HTTP/1.1\" 200 -\n",
      "203.234.62.64 - - [12/Jun/2024 14:55:37] \"GET /window_status HTTP/1.1\" 200 -\n",
      "203.234.62.64 - - [12/Jun/2024 14:55:37] \"POST /api HTTP/1.1\" 200 -\n",
      "203.234.62.64 - - [12/Jun/2024 14:55:37] \"POST /environment HTTP/1.1\" 405 -\n"
     ]
    },
    {
     "name": "stdout",
     "output_type": "stream",
     "text": [
      "{'temp': 22.6, 'humid': 53.0, 'pm': 19.53, 'rain': 46.0, 'gas': 80.0, 'light': 187.0}\n"
     ]
    },
    {
     "name": "stderr",
     "output_type": "stream",
     "text": [
      "203.234.62.183 - - [12/Jun/2024 14:55:38] \"GET /environment HTTP/1.1\" 200 -\n",
      "203.234.62.64 - - [12/Jun/2024 14:55:42] \"GET /window_status HTTP/1.1\" 200 -\n",
      "203.234.62.64 - - [12/Jun/2024 14:55:42] \"POST /api HTTP/1.1\" 200 -\n",
      "203.234.62.64 - - [12/Jun/2024 14:55:42] \"POST /environment HTTP/1.1\" 405 -\n"
     ]
    },
    {
     "name": "stdout",
     "output_type": "stream",
     "text": [
      "{'temp': 22.6, 'humid': 53.0, 'pm': 31.98, 'rain': 44.0, 'gas': 79.0, 'light': 187.0}\n"
     ]
    },
    {
     "name": "stderr",
     "output_type": "stream",
     "text": [
      "203.234.62.183 - - [12/Jun/2024 14:55:43] \"GET /environment HTTP/1.1\" 200 -\n",
      "203.234.62.64 - - [12/Jun/2024 14:55:47] \"GET /window_status HTTP/1.1\" 200 -\n",
      "203.234.62.64 - - [12/Jun/2024 14:55:47] \"POST /api HTTP/1.1\" 200 -\n",
      "203.234.62.64 - - [12/Jun/2024 14:55:47] \"POST /environment HTTP/1.1\" 405 -\n"
     ]
    },
    {
     "name": "stdout",
     "output_type": "stream",
     "text": [
      "{'temp': 22.6, 'humid': 53.0, 'pm': 20.36, 'rain': 45.0, 'gas': 79.0, 'light': 187.0}\n"
     ]
    },
    {
     "name": "stderr",
     "output_type": "stream",
     "text": [
      "203.234.62.183 - - [12/Jun/2024 14:55:48] \"GET /environment HTTP/1.1\" 200 -\n",
      "203.234.62.64 - - [12/Jun/2024 14:55:52] \"GET /window_status HTTP/1.1\" 200 -\n",
      "203.234.62.64 - - [12/Jun/2024 14:55:53] \"POST /api HTTP/1.1\" 200 -\n",
      "203.234.62.64 - - [12/Jun/2024 14:55:53] \"POST /environment HTTP/1.1\" 405 -\n"
     ]
    },
    {
     "name": "stdout",
     "output_type": "stream",
     "text": [
      "{'temp': 22.6, 'humid': 53.0, 'pm': 16.21, 'rain': 44.0, 'gas': 79.0, 'light': 188.0}\n"
     ]
    },
    {
     "name": "stderr",
     "output_type": "stream",
     "text": [
      "203.234.62.183 - - [12/Jun/2024 14:55:53] \"GET /environment HTTP/1.1\" 200 -\n",
      "203.234.62.64 - - [12/Jun/2024 14:55:58] \"GET /window_status HTTP/1.1\" 200 -\n",
      "203.234.62.64 - - [12/Jun/2024 14:55:58] \"POST /api HTTP/1.1\" 200 -\n",
      "203.234.62.64 - - [12/Jun/2024 14:55:58] \"POST /environment HTTP/1.1\" 405 -\n",
      "203.234.62.183 - - [12/Jun/2024 14:55:58] \"GET /environment HTTP/1.1\" 200 -\n"
     ]
    },
    {
     "name": "stdout",
     "output_type": "stream",
     "text": [
      "{'temp': 22.6, 'humid': 53.0, 'pm': 21.19, 'rain': 45.0, 'gas': 79.0, 'light': 188.0}\n"
     ]
    },
    {
     "name": "stderr",
     "output_type": "stream",
     "text": [
      "203.234.62.183 - - [12/Jun/2024 14:56:03] \"GET /environment HTTP/1.1\" 200 -\n"
     ]
    },
    {
     "name": "stderr",
     "output_type": "stream",
     "text": [
      "203.234.62.183 - - [12/Jun/2024 14:56:08] \"GET /environment HTTP/1.1\" 200 -\n",
      "203.234.62.183 - - [12/Jun/2024 14:56:13] \"GET /environment HTTP/1.1\" 200 -\n"
     ]
    }
   ],
   "source": [
    "from flask import Flask, request, jsonify, render_template\n",
    "import random\n",
    "\n",
    "app = Flask(__name__)\n",
    "\n",
    "window_status = {\n",
    "    \"status\": \"stop\"  # 초기 창문 상태 설정\n",
    "}\n",
    "\n",
    "# 초기 환경 데이터 설정\n",
    "environment_data = {\n",
    "    \"temp\": 0,\n",
    "    \"humidity\": 0,\n",
    "    \"pm\": 0,\n",
    "    \"rain\": 0,\n",
    "    \"gas\": 0,\n",
    "    \"light\": 0\n",
    "}\n",
    "\n",
    "@app.route('/')\n",
    "def index():\n",
    "    return render_template('index.html', status=window_status[\"status\"])\n",
    "\n",
    "def send_en(data):\n",
    "    pm25 = data['pm']\n",
    "    temperature = data['temp']\n",
    "    humidity = data['humid']\n",
    "    rain = data['rain']\n",
    "    gas = data['gas']\n",
    "    light = data['light']\n",
    "\n",
    "    global environment_data\n",
    "    environment_data = {\n",
    "        \"pm25\": pm25,\n",
    "        \"temperature\": temperature,\n",
    "        \"humidity\": humidity,\n",
    "        \"rain\": rain,\n",
    "        \"gas\": gas,\n",
    "        \"light\": light\n",
    "    }\n",
    "    return pm25, temperature, humidity, rain, gas, light\n",
    "\n",
    "@app.route('/api', methods=['POST'])\n",
    "def api():\n",
    "    data = request.get_json()\n",
    "    print(data)\n",
    "    send_en(data)\n",
    "    return jsonify({\"message\": \"Data received\", \"data\": data})\n",
    "\n",
    "@app.route('/window', methods=['POST'])\n",
    "def window():\n",
    "    global window_status\n",
    "    action = request.form.get('action')\n",
    "    if action == 'open':\n",
    "        window_status[\"status\"] = \"open\"\n",
    "    elif action == 'close':\n",
    "        window_status[\"status\"] = \"closed\"\n",
    "    else:\n",
    "        window_status[\"status\"] = \"stop\"\n",
    "    return jsonify({\"message\": f\"Window {action}ed\", \"status\": window_status[\"status\"]})\n",
    "\n",
    "@app.route('/window_status', methods=['GET'])\n",
    "def window_status_endpoint():\n",
    "    return jsonify(window_status)\n",
    "\n",
    "@app.route('/environment', methods=['GET'])\n",
    "def environment():\n",
    "    return jsonify(environment_data)\n",
    "\n",
    "if __name__ == '__main__':\n",
    "    app.run(host='0.0.0.0', port=5000)"
   ]
  }
 ],
 "metadata": {
  "kernelspec": {
   "display_name": "Python 3",
   "language": "python",
   "name": "python3"
  },
  "language_info": {
   "codemirror_mode": {
    "name": "ipython",
    "version": 3
   },
   "file_extension": ".py",
   "mimetype": "text/x-python",
   "name": "python",
   "nbconvert_exporter": "python",
   "pygments_lexer": "ipython3",
   "version": "3.12.3"
  }
 },
 "nbformat": 4,
 "nbformat_minor": 2
}
